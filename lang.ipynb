{
 "cells": [
  {
   "cell_type": "code",
   "execution_count": 64,
   "metadata": {},
   "outputs": [],
   "source": [
    "from langgraph.graph import Graph,END,START\n",
    "from langchain_groq import ChatGroq\n",
    "import os \n",
    "from dotenv import load_dotenv\n"
   ]
  },
  {
   "cell_type": "code",
   "execution_count": 58,
   "metadata": {},
   "outputs": [],
   "source": [
    "load_dotenv()\n",
    "api_key = os.getenv(\"Groq_API_KEY\")\n",
    "if not api_key:\n",
    "    raise ValueError(\"Groq_API_KEY is not set in the environment.\")\n",
    "\n",
    "\n",
    "llm = ChatGroq(model=\"llama3-70b-8192\",api_key=api_key)"
   ]
  },
  {
   "cell_type": "code",
   "execution_count": 59,
   "metadata": {},
   "outputs": [
    {
     "data": {
      "text/plain": [
       "AIMessage(content=\"HI! I'm doing great, thanks for asking! I'm a large language model, so I don't have feelings like humans do, but I'm always happy to chat with you and help with any questions or topics you'd like to discuss. How about you? How's your day going?\", additional_kwargs={}, response_metadata={'token_usage': {'completion_tokens': 61, 'prompt_tokens': 16, 'total_tokens': 77, 'completion_time': 0.177109473, 'prompt_time': 0.003413645, 'queue_time': 0.017655373, 'total_time': 0.180523118}, 'model_name': 'llama3-70b-8192', 'system_fingerprint': 'fp_2f30b0b571', 'finish_reason': 'stop', 'logprobs': None}, id='run-1f87a6fa-1fc1-425b-a450-d4432a4544ff-0', usage_metadata={'input_tokens': 16, 'output_tokens': 61, 'total_tokens': 77})"
      ]
     },
     "execution_count": 59,
     "metadata": {},
     "output_type": "execute_result"
    }
   ],
   "source": [
    "llm.invoke(\"HI hOW ARE YOU \")"
   ]
  },
  {
   "cell_type": "code",
   "execution_count": 60,
   "metadata": {},
   "outputs": [
    {
     "data": {
      "text/plain": [
       "\"Hello! I'm doing well, thank you for asking! I'm a large language model, so I don't have feelings like humans do, but I'm always happy to chat with you and help with any questions or topics you'd like to discuss. How about you? How's your day going?\""
      ]
     },
     "execution_count": 60,
     "metadata": {},
     "output_type": "execute_result"
    }
   ],
   "source": [
    "llm.invoke(\"HI hOW ARE YOU \").content"
   ]
  },
  {
   "cell_type": "code",
   "execution_count": 89,
   "metadata": {},
   "outputs": [],
   "source": [
    "def lang(input):\n",
    "    llm = ChatGroq(model=\"llama3-70b-8192\",api_key=api_key)\n",
    "    response = llm.invoke(\" hi could you please list of the american presidents \").content\n",
    "    return response\n",
    "    "
   ]
  },
  {
   "cell_type": "code",
   "execution_count": 90,
   "metadata": {},
   "outputs": [],
   "source": [
    "def lang2(input):\n",
    "    upper_string=input.upper()\n",
    "    return upper_string"
   ]
  },
  {
   "cell_type": "code",
   "execution_count": 91,
   "metadata": {},
   "outputs": [],
   "source": [
    "workflow =Graph()"
   ]
  },
  {
   "cell_type": "code",
   "execution_count": 92,
   "metadata": {},
   "outputs": [
    {
     "name": "stdout",
     "output_type": "stream",
     "text": [
      "{}\n"
     ]
    }
   ],
   "source": [
    "print(workflow.nodes)\n"
   ]
  },
  {
   "cell_type": "code",
   "execution_count": 93,
   "metadata": {},
   "outputs": [],
   "source": [
    "if \"lang\" not in workflow.nodes:\n",
    "    workflow.add_node(\"lang\", action=lang)\n",
    "\n",
    "if \"lang2\" not in workflow.nodes:\n",
    "    workflow.add_node(\"lang2\", action=lang2)\n",
    "\n",
    "\n",
    "\n"
   ]
  },
  {
   "cell_type": "code",
   "execution_count": 94,
   "metadata": {},
   "outputs": [
    {
     "data": {
      "text/plain": [
       "<langgraph.graph.graph.Graph at 0x116c72de0>"
      ]
     },
     "execution_count": 94,
     "metadata": {},
     "output_type": "execute_result"
    }
   ],
   "source": [
    "workflow.add_edge(\"lang\",\"lang2\")\n",
    "\n",
    "\n",
    "\n"
   ]
  },
  {
   "cell_type": "code",
   "execution_count": 95,
   "metadata": {},
   "outputs": [
    {
     "data": {
      "text/plain": [
       "<langgraph.graph.graph.Graph at 0x116c72de0>"
      ]
     },
     "execution_count": 95,
     "metadata": {},
     "output_type": "execute_result"
    }
   ],
   "source": [
    "workflow.set_entry_point(\"lang\")\n"
   ]
  },
  {
   "cell_type": "code",
   "execution_count": 96,
   "metadata": {},
   "outputs": [
    {
     "data": {
      "text/plain": [
       "<langgraph.graph.graph.Graph at 0x116c72de0>"
      ]
     },
     "execution_count": 96,
     "metadata": {},
     "output_type": "execute_result"
    }
   ],
   "source": [
    "workflow.set_finish_point(\"lang2\")"
   ]
  },
  {
   "cell_type": "code",
   "execution_count": 97,
   "metadata": {},
   "outputs": [],
   "source": [
    "app=workflow.compile()"
   ]
  },
  {
   "cell_type": "code",
   "execution_count": 98,
   "metadata": {},
   "outputs": [
    {
     "data": {
      "image/png": "[encoded data removed]",
      "text/plain": [
       "<IPython.core.display.Image object>"
      ]
     },
     "metadata": {},
     "output_type": "display_data"
    }
   ],
   "source": [
    "from IPython.display import Image,display\n",
    "\n",
    "try:\n",
    "    display(Image(app.get_graph().draw_mermaid_png()))\n",
    "except Exception as e:\n",
    "    print(e)"
   ]
  },
  {
   "cell_type": "code",
   "execution_count": 99,
   "metadata": {},
   "outputs": [
    {
     "data": {
      "text/plain": [
       "'HERE IS A LIST OF ALL 45 PRESIDENTS OF THE UNITED STATES:\\n\\n1. GEORGE WASHINGTON (1789-1797)\\n2. JOHN ADAMS (1797-1801)\\n3. THOMAS JEFFERSON (1801-1809)\\n4. JAMES MADISON (1809-1817)\\n5. JAMES MONROE (1817-1825)\\n6. JOHN QUINCY ADAMS (1825-1829)\\n7. ANDREW JACKSON (1829-1837)\\n8. MARTIN VAN BUREN (1837-1841)\\n9. WILLIAM HENRY HARRISON (1841-1841)\\n10. JOHN TYLER (1841-1845)\\n11. JAMES K. POLK (1845-1849)\\n12. ZACHARY TAYLOR (1849-1850)\\n13. MILLARD FILLMORE (1850-1853)\\n14. FRANKLIN PIERCE (1853-1857)\\n15. JAMES BUCHANAN (1857-1861)\\n16. ABRAHAM LINCOLN (1861-1865)\\n17. ANDREW JOHNSON (1865-1869)\\n18. ULYSSES S. GRANT (1869-1877)\\n19. RUTHERFORD B. HAYES (1877-1881)\\n20. JAMES A. GARFIELD (1881-1881)\\n21. CHESTER A. ARTHUR (1881-1885)\\n22. GROVER CLEVELAND (1885-1889)\\n23. BENJAMIN HARRISON (1889-1893)\\n24. GROVER CLEVELAND (1893-1897)\\n25. WILLIAM MCKINLEY (1897-1901)\\n26. THEODORE ROOSEVELT (1901-1909)\\n27. WILLIAM HOWARD TAFT (1909-1913)\\n28. WOODROW WILSON (1913-1921)\\n29. WARREN G. HARDING (1921-1923)\\n30. CALVIN COOLIDGE (1923-1929)\\n31. HERBERT HOOVER (1929-1933)\\n32. FRANKLIN D. ROOSEVELT (1933-1945)\\n33. HARRY S. TRUMAN (1945-1953)\\n34. DWIGHT D. EISENHOWER (1953-1961)\\n35. JOHN F. KENNEDY (1961-1963)\\n36. LYNDON B. JOHNSON (1963-1969)\\n37. RICHARD NIXON (1969-1974)\\n38. GERALD R. FORD (1974-1977)\\n39. JIMMY CARTER (1977-1981)\\n40. RONALD REAGAN (1981-1989)\\n41. GEORGE H.W. BUSH (1989-1993)\\n42. BILL CLINTON (1993-2001)\\n43. GEORGE W. BUSH (2001-2009)\\n44. BARACK OBAMA (2009-2017)\\n45. DONALD J. TRUMP (2017-2021)\\n46. JOE BIDEN (2021-PRESENT)\\n\\nNOTE: THERE HAVE BEEN A TOTAL OF 46 PRESIDENCIES, BUT ONLY 45 DIFFERENT INDIVIDUALS HAVE HELD THE OFFICE, AS GROVER CLEVELAND SERVED TWO NON-CONSECUTIVE TERMS (#22 AND #24) AND IS THEREFORE COUNTED AS THE 22ND AND 24TH PRESIDENT.'"
      ]
     },
     "execution_count": 99,
     "metadata": {},
     "output_type": "execute_result"
    }
   ],
   "source": [
    "app.invoke(\"hi could you please list of the american presidents\\n\")"
   ]
  }
 ],
 "metadata": {
  "kernelspec": {
   "display_name": "Python 3",
   "language": "python",
   "name": "python3"
  },
  "language_info": {
   "codemirror_mode": {
    "name": "ipython",
    "version": 3
   },
   "file_extension": ".py",
   "mimetype": "text/x-python",
   "name": "python",
   "nbconvert_exporter": "python",
   "pygments_lexer": "ipython3",
   "version": "3.12.0"
  }
 },
 "nbformat": 4,
 "nbformat_minor": 2
}
